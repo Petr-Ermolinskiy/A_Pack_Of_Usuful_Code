{
 "cells": [
  {
   "cell_type": "code",
   "execution_count": 1,
   "id": "cd172192",
   "metadata": {},
   "outputs": [],
   "source": [
    "import os\n",
    "import glob\n",
    "import cv2\n",
    "import matplotlib.pyplot as plt\n",
    "import tifffile as tiff\n",
    "import numpy as np"
   ]
  },
  {
   "cell_type": "code",
   "execution_count": 2,
   "id": "3df1d558",
   "metadata": {},
   "outputs": [],
   "source": [
    "def enchancer_IMAGE(new_frame):\n",
    "    #convert to 8bit image\n",
    "    new_frame2 = cv2.normalize(new_frame, None, 255, 0, cv2.NORM_MINMAX, cv2.CV_8U)\n",
    "    def gamma_trans(img, gamma):\n",
    "        gamma_table=[np.power(x/255.0,gamma)*255.0 for x in range(256)]\n",
    "        gamma_table=np.round(np.array(gamma_table)).astype(np.uint8)\n",
    "        return cv2.LUT(img,gamma_table)\n",
    "\n",
    "    image_gamma_correct=gamma_trans(new_frame2,0.5)\n",
    "\n",
    "    alpha = 0.5\n",
    "    beta = 100\n",
    "    image_gamma_correct=cv2.convertScaleAbs(image_gamma_correct, alpha=alpha, beta=beta)\n",
    "    return image_gamma_correct"
   ]
  },
  {
   "cell_type": "code",
   "execution_count": 3,
   "id": "2ff2fd01",
   "metadata": {},
   "outputs": [],
   "source": [
    "#subfolder path\n",
    "path = r''\n",
    "path=path+'\\\\'"
   ]
  },
  {
   "cell_type": "code",
   "execution_count": 5,
   "id": "dbcb3c9e",
   "metadata": {},
   "outputs": [],
   "source": [
    "#calibration -- mkm in pixel\n",
    "_10_mk_in_pixel = 110"
   ]
  },
  {
   "cell_type": "code",
   "execution_count": 6,
   "id": "ca33f093",
   "metadata": {},
   "outputs": [],
   "source": [
    "for sub_folders in os.scandir(path):\n",
    "    if sub_folders.is_dir():\n",
    "        name=sub_folders.path.split('\\\\')[-1]\n",
    "        files = glob.glob(path+name+'\\\\'+'*.tif')\n",
    "        \n",
    "        #create a subfolder for images with bars.\n",
    "        name_folder_with_bars = 'with_bars_'+name\n",
    "        name_folder_with_bars = path +'!Figs_with_bars'+'\\\\'+name_folder_with_bars\n",
    "        os.makedirs(name_folder_with_bars, exist_ok=True)\n",
    "        for i in files:\n",
    "            name_fig=i.split('\\\\')[-1]\n",
    "\n",
    "            img = tiff.imread(i)\n",
    "            \n",
    "            kl=enchancer_IMAGE(img)\n",
    "            height, width = kl.shape\n",
    "            \n",
    "            lineThickness=10\n",
    "            cv2.line(kl, (int(width*0.90-_10_mk_in_pixel/2),int(height*0.95)), (int(width*0.90+_10_mk_in_pixel/2),int(height*0.95)), (255,255,255), lineThickness)\n",
    "            \n",
    "            color = 'w'\n",
    "            fig, ax = plt.subplots()\n",
    "            ax.imshow(kl, cmap = 'gray')\n",
    "\n",
    "            #m=plt.text(0.85, 0.1, r'100 $\\mu$m', transform=ax.transAxes)\n",
    "            m=plt.text(int(width*0.85), int(height*0.9), r'10 $\\mu$m')\n",
    "            m.set_bbox(dict(facecolor=color, alpha=0.5))\n",
    "            plt.axis('off')\n",
    "            \n",
    "            fig.savefig(name_folder_with_bars+'\\\\'+name_fig.split('.')[0] + '.png', dpi = 300, format='png',bbox_inches='tight')\n",
    "            \n",
    "            plt.close(fig)\n"
   ]
  },
  {
   "cell_type": "code",
   "execution_count": null,
   "id": "0800a8a5",
   "metadata": {},
   "outputs": [],
   "source": []
  }
 ],
 "metadata": {
  "kernelspec": {
   "display_name": "Python 3 (ipykernel)",
   "language": "python",
   "name": "python3"
  },
  "language_info": {
   "codemirror_mode": {
    "name": "ipython",
    "version": 3
   },
   "file_extension": ".py",
   "mimetype": "text/x-python",
   "name": "python",
   "nbconvert_exporter": "python",
   "pygments_lexer": "ipython3",
   "version": "3.11.3"
  }
 },
 "nbformat": 4,
 "nbformat_minor": 5
}
